{
 "cells": [
  {
   "cell_type": "markdown",
   "metadata": {},
   "source": [
    "# CA1: Curve Fitting Problem\n",
    "\n",
    "In the first computer assignment we have been asked to design a genetic algorithm so that it converges on a solution to the \"Curve Fitting Problem\". Curve Fitting's goal is finding a polynomial representation for a set of given points, in a way that the polynomial representation corresponds each point.\n",
    "\n",
    "For the sake of simplicity, in this project, the degree of the result is given as a parameter to the program, as well as the interval each coefficient must be in. Also, it is considered that points in the given sample must be in $\\mathbb{Z}^2$ and each coefficient in the polynomial representation must be in $\\mathbb{Z}$."
   ]
  },
  {
   "cell_type": "markdown",
   "metadata": {},
   "source": [
    "## Section 0: Formulation of the Problem\n",
    "\n",
    "We formulate the problem by this interpretation:\n",
    "\n",
    "- the size of the sample is $n$,\n",
    "- each point in the sample is shown by a 2-tuple $(x_i, y_i)$,\n",
    "- the given interval for coefficents is $[c_{min}, c_{max})$,\n",
    "- the degree of the target polynomial is $d$.\n",
    "\n",
    "Also the polynomials are shown as $p_i(x)$ while the optimal answer is represented as $p^*(x)$."
   ]
  },
  {
   "cell_type": "code",
   "execution_count": 1,
   "metadata": {},
   "outputs": [],
   "source": [
    "chromosome_length = int(input(\"polynomial degree: \")) + 1\n",
    "gene_interval = tuple(map(int, input(\"coefficients' interval: \").split()))\n",
    "sample_size = int(input(\"number of samples: \"))\n",
    "sample = []\n",
    "for i in range(sample_size):\n",
    "    point = tuple(\n",
    "            map(int, input(f\"point {i + 1}: \").split())\n",
    "            )\n",
    "    sample.append(point)"
   ]
  },
  {
   "cell_type": "markdown",
   "metadata": {},
   "source": [
    "## Section 1: Demonstrating Basic Ideas\n",
    "\n",
    "Implementation of a genetic algorithm is reliant on how we define each required concept. To do so, the approach taken was defining them with no excessive complication. In this approach, a **Gene** is defined as a coefficient in a polynomial representation. Thus, a gene basically is an integer. Genes are referred to with letter $g$. Other conceptual entities are described as their basic definition in genetic algorithm design:\n",
    "\n",
    "- A **chromosome** is a sequence of genes. A chromosome is referred to as a $(d+1)$-tuple.  \n",
    "$ch_i=(g_0, g_1, \\dots, g_d)$.\n",
    "- Each **cycle** includes a sequence of actions performed on a population to create a new population.\n",
    "- **Population** is a sequence of chromosomes corresponding. The size of population is referred to by $m$.\n",
    "- **Evaluation function** is the score of each chromosome. It must be increasing as chromosomes get closer to the goal.  \n",
    "$evaluation\\_function: chromosomes \\rightarrow \\mathbb{R}$\n",
    "- **Selection** is an action taken to choose members of the population that will survive to the next cycle.  \n",
    "$select: chromosomes^m \\rightarrow chromosomes^m$\n",
    "- **Crossover function** is a function that creates two new chromosomes out of two parent chromosomes.  \n",
    "$crossover: chromosomes^2 \\rightarrow chromosomes^2$\n",
    "- **Mutation function** is a function that mutates a gene to another gene.  \n",
    "$mutate: genes \\rightarrow genes$\n",
    "- **Crossover probability** is the probability by which crossover function is called for two selected chromosomes.  \n",
    "$Pr_{crossover}$\n",
    "- **Mutation probability** is the probability by which a gene is mutated.  \n",
    "$Pr_{mutation}$\n",
    "\n",
    "In our design it was determined that a number of good chromosomes would not get mutated at all. This number is referred to by $N_{not\\_mutated}$.\n",
    "\n",
    "To implement all these factors eligibly, they are reserved in a `Config` class. In this class two more methods are implemented that are not mentioned:\n",
    "- `get_probability` which returns a sequence of probabilities, each corresponding to the probability a chromosome could get selected by, with respect to the order of chromosomes in the population,\n",
    "- and `is_absolute_solution_found` that returns true when there is chromosome in the population that has maximum evaluation possible."
   ]
  },
  {
   "cell_type": "code",
   "execution_count": 2,
   "metadata": {},
   "outputs": [],
   "source": [
    "from genetic_utils import Gene, Chromosome\n",
    "from typing import List\n",
    "from random import uniform\n",
    "\n",
    "class Config:\n",
    "    population_length = int(input(\"population_length: \"))\n",
    "    mutation_probability = float(input(\"mutation_probability: \"))\n",
    "    not_mutated_count = int(input(\"not_mutated_count: \"))\n",
    "    crossover_probability = float(input(\"crossover_probability: \"))\n",
    "    def mutation_function(gene: Gene) -> Gene:\n",
    "        return Gene(int(uniform(*gene_interval)))\n",
    "    \n",
    "    def crossover_function(\n",
    "            chromosome1: Chromosome, \n",
    "            chromosome2: Chromosome) -> [Chromosome, Chromosome]:\n",
    "        gene_sequence1 = []\n",
    "        gene_sequence2 = []\n",
    "        choice_vector = [chromosome1, chromosome2]\n",
    "        for i in range(chromosome_length):\n",
    "            if i == int(chromosome_length / 2):\n",
    "                choice_vector = choice_vector[::-1]\n",
    "            gene_sequence1.append(choice_vector[0].get_gene(i))\n",
    "            gene_sequence2.append(choice_vector[1].get_gene(i))\n",
    "\n",
    "        new_chromosome1 = Chromosome(gene_sequence1)\n",
    "        new_chromosome2 = Chromosome(gene_sequence2)\n",
    "        return [new_chromosome1, new_chromosome2]\n",
    "    \n",
    "    def evaluation_function(chromosome: Chromosome) -> float:\n",
    "        calculated_value = 0\n",
    "        for point in sample:\n",
    "            x, y = point\n",
    "            f_x = 0\n",
    "            for i in range(chromosome_length):\n",
    "                gene = chromosome.get_gene(i)\n",
    "                f_x += gene.value * (x ** i)\n",
    "            calculated_value -= abs(y - f_x)\n",
    "        return calculated_value\n",
    "    \n",
    "    def get_probabilities(population: List[Chromosome]) -> List[float]:\n",
    "        values = [Config.evaluation_function(chromosome) \\\n",
    "            for chromosome in population]\n",
    "        value_times_probabilities = 1 / sum([1 / x for x in values])\n",
    "        probabilities = [value_times_probabilities / x for x in values]\n",
    "        return probabilities\n",
    "    \n",
    "    def is_absolute_solution_found(population: List[Chromosome]) -> bool:\n",
    "        for chromosome in population:\n",
    "            if Config.evaluation_function(chromosome) == 0:\n",
    "                return True\n",
    "        return False"
   ]
  },
  {
   "cell_type": "markdown",
   "metadata": {},
   "source": [
    "## Section 2: Instantiating Genetic Algorithm\n",
    "\n",
    "In order to pledge oneself to the concepts, a considerably general implementation of genetic algorithms was written in a package called `genetic_utils`. In this package there are three entities:\n",
    "\n",
    "- an implementation of a `Gene` class,\n",
    "- an implementation of a `Chromosome` class,\n",
    "- and an implementation of a `GeneticAlgorithm` class that has following methods:\n",
    "  - `do_cycle` that performs a cycle of `do_selection`, `do_crossover`, and `do_mutation`,\n",
    "  - `generate_population` that randomly creates $m$ chromosomes which fulfills the conditions,\n",
    "  - and `show_population` and `get_best`, that in each state the algorithm is they can be used to print all the members of the population and to print the best member in the population regarding $evaluation\\_function$, respectively.\n",
    "\n",
    "Thus, we store this instance of genetic algorithm which is described in this section, in a variable named `algorithm`."
   ]
  },
  {
   "cell_type": "code",
   "execution_count": 3,
   "metadata": {},
   "outputs": [],
   "source": [
    "from genetic_utils import GeneticAlgorithm\n",
    "\n",
    "algorithm = GeneticAlgorithm(\n",
    "        gene_interval,\n",
    "        chromosome_length,\n",
    "        Config.population_length,\n",
    "        Config.mutation_probability,\n",
    "        Config.mutation_function,\n",
    "        Config.not_mutated_count,\n",
    "        Config.crossover_probability,\n",
    "        Config.crossover_function,\n",
    "        Config.evaluation_function,\n",
    "        Config.get_probabilities,\n",
    "        Config.is_absolute_solution_found)"
   ]
  },
  {
   "cell_type": "markdown",
   "metadata": {},
   "source": [
    "## Section 3: Generating The First Population\n",
    "\n",
    "To do so, we simply can call `generate_population` method for the `algorithm`."
   ]
  },
  {
   "cell_type": "code",
   "execution_count": 9,
   "metadata": {},
   "outputs": [
    {
     "name": "stdout",
     "output_type": "stream",
     "text": [
      "show_population: population contains:\n",
      "index=0: chromosome=(3, 3, 3)\n",
      "index=1: chromosome=(1, 9, 4)\n",
      "index=2: chromosome=(6, 3, 7)\n",
      "index=3: chromosome=(4, 0, 2)\n",
      "index=4: chromosome=(4, 7, 2)\n",
      "index=5: chromosome=(2, 4, 9)\n",
      "index=6: chromosome=(4, 0, 0)\n",
      "index=7: chromosome=(3, 8, 8)\n",
      "index=8: chromosome=(0, 6, 9)\n",
      "index=9: chromosome=(5, 5, 6)\n",
      "--------End--------\n"
     ]
    }
   ],
   "source": [
    "algorithm.generate_population()\n",
    "algorithm.show_population()"
   ]
  },
  {
   "cell_type": "markdown",
   "metadata": {},
   "source": [
    "## Section 4: Running the Algorithm for a Given Number of Cycles\n",
    "\n",
    "To do so, in the `GeneticAlgorithm`, method `do_cycles` is put to run `do_cycle` for multiple times so long as it has not reached to an *absolute solution*.  \n",
    "The number of cycles is referred to by $N_{cycles}$."
   ]
  },
  {
   "cell_type": "code",
   "execution_count": 10,
   "metadata": {},
   "outputs": [
    {
     "name": "stdout",
     "output_type": "stream",
     "text": [
      "the best chromosome so far: (1, 1, 1)\n",
      "show_population: population contains:\n",
      "index=0: chromosome=(1, 1, 1)\n",
      "index=1: chromosome=(2, 1, 1)\n",
      "index=2: chromosome=(0, 1, 1)\n",
      "index=3: chromosome=(0, 8, 1)\n",
      "index=4: chromosome=(2, 0, 1)\n",
      "index=5: chromosome=(2, 0, 1)\n",
      "index=6: chromosome=(2, 0, 1)\n",
      "index=7: chromosome=(4, 1, 1)\n",
      "index=8: chromosome=(0, 0, 1)\n",
      "index=9: chromosome=(0, 0, 1)\n",
      "--------End--------\n"
     ]
    }
   ],
   "source": [
    "cycle_count = int(input(\"number of cycles: \"))\n",
    "algorithm.do_cycles(cycle_count, do_print=False)\n",
    "print(f\"the best chromosome so far: {algorithm.get_best()}\")\n",
    "algorithm.show_population()"
   ]
  },
  {
   "cell_type": "markdown",
   "metadata": {},
   "source": [
    "## Section 5: Time Complexity\n",
    "\n",
    "- `evaluation_function`: $O(nd)$\n",
    "- `get_probabilities`: $O(m \\times complexity($`evaluation_function`$)) \\rightarrow O(mnd)$\n",
    "- `do_selection`: $O(complexity($`get_probabilities`$) + m^2) \\rightarrow O(mnd + m^2)$ \n",
    "- `do_crossover`: $O(md)$\n",
    "- `do_mutation`: $O(md)$\n",
    "- `is_absolute_solution_found`: $O(m \\times complexity($`evaluation_function`$)) \\rightarrow O(mnd)$\n",
    "- `do_cycle`:  \n",
    "$O(complexity($`is_absolute_solution_found`$) + complexity($`do_selection`$) + complexity($`crossover`$) + complexity($`do_mutation`$)) \\rightarrow O(mnd + m^2)$\n",
    "- `do_cycles`: $O(N_{cycles} \\times complexity($`do_cycle`$)) \\rightarrow O(N_{cycles}m(nd + m))$\n",
    "\n",
    "$$\n",
    "Total\\space Complexity = O(N_{cycles}m(nd + m))\n",
    "$$"
   ]
  },
  {
   "cell_type": "markdown",
   "metadata": {},
   "source": [
    "## Section 6: Space Complexity\n",
    "\n",
    "Since at each instant, there are only $m$ chromosomes stored in the memory:\n",
    "$$ Total\\space Complexity = O(md + n)$$"
   ]
  },
  {
   "cell_type": "markdown",
   "metadata": {},
   "source": [
    "## Section 7: Questions\n",
    "\n",
    "* **Question #1: What consequences does it have when the population size is too small or too big?**  \n",
    "If $m$ is too small, it is going to take a myriad of cycles to find the solution. It is also more likely to get stuck in local maxima.   \n",
    "On the other hand, if $m$ is too big, time usage is going to increase drastically for time complexity being $O(N_{cycles}(nd + m)m)$.\n",
    "\n",
    "* **Question #2: If the size of the population increases in each cycle, what impacts it is going to have on the precision and the speed of the algorithm?**  \n",
    "As algorithm goes forward, the convergence of chromosomes shapes toward a local solution. Therefore, as cycles pass, the size of needed chromosomes decreases since it is getting closer to the convergence. Now, if we decide to increase population in each cycle, it is going to result in a increase in time complexity while adding statistically no precision to our algorithm.\n",
    "\n",
    "* **Question #3: What are the impacts of mutation and crossover operations? Can any of them be removed? Why?**  \n",
    "Crossover function enables a genetic algorithm to create new chromosomes out of a set of *\"good\"* parents in a way that they inherit their *\"good\"* qualities.  \n",
    "Nevertheless, mutation function enables a genetic algorithm to create completely new chromosomes that may not be previously seen in any cycle's population.  \n",
    "If crossovering were not included, in each cycle, the algorithm would not create new chromosomes that necessarily keep previous qualities. Instead, it would create new chromosomes randomly out of old ones without considering the evaluation measure.  \n",
    "On the opposite side, if mutation were not included, the algorithm would get stuck in local maxima. In other words, only chromosomes that were in the range of the first population could be seen in the any cycle's population.\n",
    "\n",
    "* **Question #4: In your opinion, what can be done to enable the algorithm to find solutions faster?**  \n",
    "In this particular instance, because the domain of $p(x)$ is $\\mathbb{Z}$, for chromosome $ch=(g_0, g_1, \\dots, g_d)$ we know the impact of $g_i$ is more than the impact of $g_{i-1}$ for $i=1,2,\\dots,d$. Therefore, it could be a good idea to implement this factor in $Pr_{mutation}$ and also in the crossover function. For instance, if the the evaluation function is less than a particular number, then crossovering should happen from a gene with more impact.\n",
    "\n",
    "* **Question #5: Despite all the effort, it is still possible for chromosomes to stay unchanged after some cycles. Why is it possible and what problems it will cause? What suggestions do you have to resolve this issue?**  \n",
    "If the population is stuck in a local maximum and $Pr_{mutation}$ is not high enough to change the direction of the population very fast, the aforementioned circumstance will appear. The result of this incident is simply the fact that reaching the goal chromosome would *seem impossible*. Based on the reason mutation is defined in genetic algorithms, to resolve this issue, it is suggested to increase $Pr_{mutation}$ to a value that gives more chance to *exploration* of new chromosomes. Also, with bigger or more diverse sample size, the chance of getting into local maxima would decrease since their corresponding chromosomes would be fewer.\n",
    "\n",
    "* **Question #6: What do you suggest for algorithm finishing due to the assumption that the problem does not have a solution?**  \n",
    "In my implementation, there exists a function called `is_absolute_solution_found`. One way to finish the algorithm in these cases by changing this function to being true when the evaluation is *good enough* rather than being the maximum value possible.  \n",
    "Another approach is keeping a value that corresponds how much the population got changed during the last cycle. If this value converged on a number after some cycles, then the algorithm would terminate itself.\n",
    "\n",
    "* **Question #7: When the degree of the polynomial increases, how it affects time complexity?**  \n",
    "As it was mentioned in Section 5, the time complexity of this algorithm is $O(N_{cycles}m(nd+m))$. Therefore, by the increase in $d$, the time complexity would increase linearly.\n",
    "\n",
    "* **Question #8: In your opinion, how enlarging or reducing the size of sample can have impact on algorithm's execuation?**  \n",
    "A large sample size would result in a more precise evaluation measure, which literally causes better evaluation of each chromosome. Also, a more precise evaluation measure, can belittle the chance that the algorithm gets stuck in a local maximum. However, the trade-off is by increasing the size of sample, the time complexity of `evaluation_function` will increase."
   ]
  },
  {
   "cell_type": "markdown",
   "metadata": {},
   "source": [
    "## Conclusion\n",
    "\n",
    "Hitherto the class `GeneticAlgorithm` was designed to satisfy any problem that could be implemented as a genetic algorithm. Also, an instantiation of it was run to approximately solve *Curve Fitting Problem*. On this way, issues such as time and space complexity were discussed explicitly, alongside the answer to the eight questions attached to the assignment.  \n",
    "Even though the goal of this assignment was probably just to give students an educational view to genetic algorithms, it did also provide a valuable package that could be used in the future."
   ]
  }
 ],
 "metadata": {
  "kernelspec": {
   "display_name": "Python 3",
   "language": "python",
   "name": "python3"
  },
  "language_info": {
   "codemirror_mode": {
    "name": "ipython",
    "version": 3
   },
   "file_extension": ".py",
   "mimetype": "text/x-python",
   "name": "python",
   "nbconvert_exporter": "python",
   "pygments_lexer": "ipython3",
   "version": "3.12.0"
  }
 },
 "nbformat": 4,
 "nbformat_minor": 2
}
